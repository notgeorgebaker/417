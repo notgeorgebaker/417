{
 "cells": [
  {
   "cell_type": "markdown",
   "id": "bd18a1b8",
   "metadata": {},
   "source": [
    "# Automatic analysis of RMSF/ D (1st Revision)\n",
    "\n",
    "Based on codes explained by \n",
    "Mohamed Shehata; August 2020; University of California San Diego. \n",
    "\n",
    "\n",
    "Before executing these codes, they assume the 'Anaconda' package is installed on your local machine, that MDTraj is installed and MDAnalysis. \n",
    "\n",
    "\n",
    "Available from; \n",
    "\n",
    "https://www.anaconda.com\n",
    "\n",
    "https://mdtraj.org/1.9.4/installation.html \n",
    "\n",
    "For MDAnalysis please open the terminal on your machine, after Anaconda has been installed and enter; \n",
    "\n",
    "\n",
    "conda config --add channels conda-forge\n",
    "\n",
    "conda install mdanalysis\n",
    "\n",
    "\n",
    "Both packages have really good installation instructions, and plenty of YouTube videos to help if you get stuck.\n",
    "\n",
    "\n",
    "G.W.Baker University of Portsmouth\n",
    "\n",
    "\n",
    "\n",
    "Accessed August 2022. "
   ]
  },
  {
   "cell_type": "code",
   "execution_count": 1,
   "id": "f06e0762",
   "metadata": {},
   "outputs": [],
   "source": [
    "import mdtraj as md\n",
    "import matplotlib.pyplot as plt\n",
    "import numpy as np"
   ]
  },
  {
   "cell_type": "code",
   "execution_count": 2,
   "id": "74a6a385",
   "metadata": {},
   "outputs": [
    {
     "name": "stdout",
     "output_type": "stream",
     "text": [
      "/Users/georgebaker/Desktop\r\n"
     ]
    }
   ],
   "source": [
    "!pwd"
   ]
  },
  {
   "cell_type": "markdown",
   "id": "1319e304",
   "metadata": {},
   "source": [
    "Now in the ! cd command bellow, move over to where your simulation data is on your machine. Currently it must be a local folder and not on a supercomputer/ server/ etc. "
   ]
  },
  {
   "cell_type": "code",
   "execution_count": 3,
   "id": "7e1cae58",
   "metadata": {},
   "outputs": [],
   "source": [
    "! cd /Users/georgebaker/Desktop/Sciama-Outputs/New\\ Today"
   ]
  },
  {
   "cell_type": "markdown",
   "id": "1a8acd6a",
   "metadata": {},
   "source": [
    "Just to check we're working the right folder."
   ]
  },
  {
   "cell_type": "code",
   "execution_count": 4,
   "id": "b1614b88",
   "metadata": {},
   "outputs": [
    {
     "name": "stdout",
     "output_type": "stream",
     "text": [
      "/Users/georgebaker/Desktop\r\n"
     ]
    }
   ],
   "source": [
    "!pwd"
   ]
  },
  {
   "cell_type": "markdown",
   "id": "88aef138",
   "metadata": {},
   "source": [
    "Now to change the names of your trajectory file, and pdb."
   ]
  },
  {
   "cell_type": "code",
   "execution_count": 5,
   "id": "236a236e",
   "metadata": {
    "scrolled": true
   },
   "outputs": [],
   "source": [
    "traj = md.load('step7_production.dcd', top='step5_input.pdb')"
   ]
  },
  {
   "cell_type": "markdown",
   "id": "acfd1854",
   "metadata": {},
   "source": [
    "Bellow selects every atom within the protein, you call adjust to 'all' if needed, or for a per residue read out add 'protein and name CA'"
   ]
  },
  {
   "cell_type": "code",
   "execution_count": 6,
   "id": "55bf04c1",
   "metadata": {},
   "outputs": [],
   "source": [
    "protein_sel = traj.topology.select('protein')\n",
    "protein_traj = traj.atom_slice(protein_sel)"
   ]
  },
  {
   "cell_type": "markdown",
   "id": "5adc752c",
   "metadata": {},
   "source": [
    "Bellow assumes you want to start at the begining of your simulation. If that is not the case then you can adjust the 0 to whichever frame number you wish to start with."
   ]
  },
  {
   "cell_type": "code",
   "execution_count": 7,
   "id": "3f2701ec",
   "metadata": {},
   "outputs": [],
   "source": [
    "rmsd = md.rmsd(protein_traj, protein_traj, 0) "
   ]
  },
  {
   "cell_type": "markdown",
   "id": "64e0b821",
   "metadata": {},
   "source": [
    "Feel free to change the axis tiles and colours. In Python it's 'color'."
   ]
  },
  {
   "cell_type": "code",
   "execution_count": 8,
   "id": "111fb084",
   "metadata": {
    "scrolled": true
   },
   "outputs": [
    {
     "data": {
      "text/plain": [
       "Text(0, 0.5, 'RMSD (nm)')"
      ]
     },
     "execution_count": 8,
     "metadata": {},
     "output_type": "execute_result"
    },
    {
     "data": {
      "image/png": "[encoded data removed]",
      "text/plain": [
       "<Figure size 432x288 with 1 Axes>"
      ]
     },
     "metadata": {
      "needs_background": "light"
     },
     "output_type": "display_data"
    }
   ],
   "source": [
    "fig1= plt.plot(rmsd, color='purple')\n",
    "plt.xlabel('Time (ns)')\n",
    "plt.ylabel('RMSD (nm)')"
   ]
  },
  {
   "cell_type": "code",
   "execution_count": 9,
   "id": "5bd711ab",
   "metadata": {},
   "outputs": [
    {
     "data": {
      "text/plain": [
       "array([0.        , 0.16484338, 0.16321322, 0.18166839, 0.1767395 ,\n",
       "       0.20562898, 0.21560858, 0.2156289 , 0.22527279, 0.23065686,\n",
       "       0.20490292, 0.22137655, 0.20689349, 0.19925208, 0.21624805,\n",
       "       0.2296665 , 0.23558341, 0.2545008 , 0.26778674, 0.24393865,\n",
       "       0.23954137, 0.23273796, 0.25712255, 0.23733526, 0.24846986,\n",
       "       0.25077906], dtype=float32)"
      ]
     },
     "execution_count": 9,
     "metadata": {},
     "output_type": "execute_result"
    }
   ],
   "source": [
    "rmsd"
   ]
  },
  {
   "cell_type": "markdown",
   "id": "d1e971b4",
   "metadata": {},
   "source": [
    "The calculation bellow yeilds an every atom RMSF discription of your protein. Further down we will generate a residue based RMSF."
   ]
  },
  {
   "cell_type": "code",
   "execution_count": 10,
   "id": "ff51f149",
   "metadata": {},
   "outputs": [],
   "source": [
    "rmsf = md.rmsf(protein_traj, protein_traj, 0) "
   ]
  },
  {
   "cell_type": "code",
   "execution_count": 11,
   "id": "cf37d3c7",
   "metadata": {},
   "outputs": [
    {
     "data": {
      "text/plain": [
       "array([0.14060798, 0.14411186, 0.14382656, ..., 0.40952855, 0.4364457 ,\n",
       "       0.48431864], dtype=float32)"
      ]
     },
     "execution_count": 11,
     "metadata": {},
     "output_type": "execute_result"
    }
   ],
   "source": [
    "rmsf"
   ]
  },
  {
   "cell_type": "code",
   "execution_count": 12,
   "id": "2633d0a4",
   "metadata": {},
   "outputs": [
    {
     "data": {
      "text/plain": [
       "[<matplotlib.lines.Line2D at 0x7f8352ca4970>]"
      ]
     },
     "execution_count": 12,
     "metadata": {},
     "output_type": "execute_result"
    },
    {
     "data": {
      "image/png": "[encoded data removed]",
      "text/plain": [
       "<Figure size 432x288 with 1 Axes>"
      ]
     },
     "metadata": {
      "needs_background": "light"
     },
     "output_type": "display_data"
    }
   ],
   "source": [
    "plt.plot(rmsf, color='green')"
   ]
  },
  {
   "cell_type": "code",
   "execution_count": 13,
   "id": "dc9708dc",
   "metadata": {},
   "outputs": [],
   "source": [
    "protein_sel2 = traj.topology.select('protein and name CA')\n",
    "protein_traj2 = traj.atom_slice(protein_sel2)"
   ]
  },
  {
   "cell_type": "code",
   "execution_count": 14,
   "id": "2af71f3d",
   "metadata": {},
   "outputs": [],
   "source": [
    "rmsf = md.rmsf(protein_traj2, protein_traj2, 0) "
   ]
  },
  {
   "cell_type": "code",
   "execution_count": 15,
   "id": "78d265af",
   "metadata": {},
   "outputs": [
    {
     "data": {
      "text/plain": [
       "[<matplotlib.lines.Line2D at 0x7f8352fd46a0>]"
      ]
     },
     "execution_count": 15,
     "metadata": {},
     "output_type": "execute_result"
    },
    {
     "data": {
      "image/png": "[encoded data removed]",
      "text/plain": [
       "<Figure size 432x288 with 1 Axes>"
      ]
     },
     "metadata": {
      "needs_background": "light"
     },
     "output_type": "display_data"
    }
   ],
   "source": [
    "plt.plot(rmsf, color='green')"
   ]
  },
  {
   "cell_type": "code",
   "execution_count": 16,
   "id": "be606669",
   "metadata": {},
   "outputs": [
    {
     "name": "stderr",
     "output_type": "stream",
     "text": [
      "/Users/georgebaker/opt/anaconda3/lib/python3.9/site-packages/MDAnalysis/coordinates/chemfiles.py:108: DeprecationWarning: distutils Version classes are deprecated. Use packaging.version instead.\n",
      "  MIN_CHEMFILES_VERSION = LooseVersion(\"0.9\")\n"
     ]
    }
   ],
   "source": [
    "import MDAnalysis as mda\n",
    "from MDAnalysis.analysis import diffusionmap, align\n",
    "import matplotlib.pyplot as plt\n",
    "%matplotlib inline\n",
    "import numpy as np"
   ]
  },
  {
   "cell_type": "code",
   "execution_count": 17,
   "id": "279bde7e",
   "metadata": {},
   "outputs": [],
   "source": [
    "u = mda.Universe(\"step5_input.psf\", \"step7_production.dcd\")"
   ]
  },
  {
   "cell_type": "code",
   "execution_count": 18,
   "id": "e40e8feb",
   "metadata": {},
   "outputs": [],
   "source": [
    "aligner = align.AlignTraj(u, u, select='name CA', in_memory=True).run()"
   ]
  },
  {
   "cell_type": "code",
   "execution_count": 19,
   "id": "094764a8",
   "metadata": {},
   "outputs": [
    {
     "name": "stderr",
     "output_type": "stream",
     "text": [
      "/Users/georgebaker/opt/anaconda3/lib/python3.9/site-packages/MDAnalysis/analysis/diffusionmap.py:286: DeprecationWarning: The `dist_matrix` attribute was deprecated in MDAnalysis 2.0.0 and will be removed in MDAnalysis 3.0.0. Please use `results.dist_matrix` instead.\n",
      "  warnings.warn(wmsg, DeprecationWarning)\n"
     ]
    },
    {
     "data": {
      "text/plain": [
       "(26, 26)"
      ]
     },
     "execution_count": 19,
     "metadata": {},
     "output_type": "execute_result"
    }
   ],
   "source": [
    "matrix = diffusionmap.DistanceMatrix(u, select='name CA').run()\n",
    "matrix.dist_matrix.shape"
   ]
  },
  {
   "cell_type": "code",
   "execution_count": 20,
   "id": "03cc616c",
   "metadata": {},
   "outputs": [
    {
     "data": {
      "text/plain": [
       "Text(0.5, 1.0, 'Envz')"
      ]
     },
     "execution_count": 20,
     "metadata": {},
     "output_type": "execute_result"
    },
    {
     "data": {
      "image/png": "[encoded data removed]",
      "text/plain": [
       "<Figure size 432x288 with 2 Axes>"
      ]
     },
     "metadata": {
      "needs_background": "light"
     },
     "output_type": "display_data"
    }
   ],
   "source": [
    "plt.imshow(matrix.dist_matrix, cmap='viridis')\n",
    "plt.xlabel('Frame' , fontsize=10)\n",
    "plt.ylabel('Frame' , fontsize=10)\n",
    "plt.colorbar(label='RMSD')\n",
    "ax = plt.gca()\n",
    "ax.tick_params(axis = 'both' , labelsize = 10)\n",
    "plt.title('Envz')"
   ]
  },
  {
   "cell_type": "code",
   "execution_count": 21,
   "id": "49e6bab7",
   "metadata": {},
   "outputs": [
    {
     "ename": "ModuleNotFoundError",
     "evalue": "No module named 'MDAnalysis.analysis.hole'",
     "output_type": "error",
     "traceback": [
      "\u001b[0;31m---------------------------------------------------------------------------\u001b[0m",
      "\u001b[0;31mModuleNotFoundError\u001b[0m                       Traceback (most recent call last)",
      "Input \u001b[0;32mIn [21]\u001b[0m, in \u001b[0;36m<cell line: 7>\u001b[0;34m()\u001b[0m\n\u001b[1;32m      4\u001b[0m plt\u001b[38;5;241m.\u001b[39mstyle\u001b[38;5;241m.\u001b[39muse(\u001b[38;5;124m'\u001b[39m\u001b[38;5;124mggplot\u001b[39m\u001b[38;5;124m'\u001b[39m)\n\u001b[1;32m      6\u001b[0m \u001b[38;5;28;01mimport\u001b[39;00m \u001b[38;5;21;01mMDAnalysis\u001b[39;00m \u001b[38;5;28;01mas\u001b[39;00m \u001b[38;5;21;01mmda\u001b[39;00m\n\u001b[0;32m----> 7\u001b[0m \u001b[38;5;28;01mimport\u001b[39;00m \u001b[38;5;21;01mMDAnalysis\u001b[39;00m\u001b[38;5;21;01m.\u001b[39;00m\u001b[38;5;21;01manalysis\u001b[39;00m\u001b[38;5;21;01m.\u001b[39;00m\u001b[38;5;21;01mhole\u001b[39;00m\n",
      "\u001b[0;31mModuleNotFoundError\u001b[0m: No module named 'MDAnalysis.analysis.hole'"
     ]
    }
   ],
   "source": [
    "import numpy as np\n",
    "import matplotlib.pyplot as plt\n",
    "%matplotlib inline\n",
    "plt.style.use('ggplot')\n",
    "\n",
    "import MDAnalysis as mda\n",
    "import MDAnalysis.analysis.hole"
   ]
  },
  {
   "cell_type": "code",
   "execution_count": null,
   "id": "dedb3631",
   "metadata": {},
   "outputs": [],
   "source": []
  }
 ],
 "metadata": {
  "kernelspec": {
   "display_name": "Python 3 (ipykernel)",
   "language": "python",
   "name": "python3"
  },
  "language_info": {
   "codemirror_mode": {
    "name": "ipython",
    "version": 3
   },
   "file_extension": ".py",
   "mimetype": "text/x-python",
   "name": "python",
   "nbconvert_exporter": "python",
   "pygments_lexer": "ipython3",
   "version": "3.9.12"
  }
 },
 "nbformat": 4,
 "nbformat_minor": 5
}
